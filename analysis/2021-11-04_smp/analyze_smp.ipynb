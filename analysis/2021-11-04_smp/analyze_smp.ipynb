version https://git-lfs.github.com/spec/v1
oid sha256:6345b4b9c8b903a2af6f301479468ce7dcbfa688af2477936c6ccc7123b4cfac
size 608462
