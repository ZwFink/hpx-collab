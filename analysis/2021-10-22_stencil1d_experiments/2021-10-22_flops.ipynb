version https://git-lfs.github.com/spec/v1
oid sha256:064ce57b8870c3e9f64afc510b0464cdb9a5800126330c31b106802025ec5721
size 120003
